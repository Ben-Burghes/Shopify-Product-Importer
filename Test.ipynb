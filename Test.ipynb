{
 "cells": [
  {
   "cell_type": "code",
   "execution_count": 1,
   "metadata": {},
   "outputs": [],
   "source": [
    "import pandas as pd\n",
    "import re\n",
    "\n",
    "# Load your data into a DataFrame\n",
    "df = pd.read_csv(\"quickstart_upload_28_11.csv\")\n",
    "\n",
    "# Remove extra spaces from column names, just in case\n",
    "df.columns = df.columns.str.strip()\n",
    "\n",
    "# Fill down the \"Title\", \"Option1 Name\", \"Option2 Name\", and \"Option3 Name\" for each group of the same \"Handle\"\n",
    "df['Title'] = df.groupby('Handle')['Title'].ffill()\n",
    "df['Option1 Name'] = df.groupby('Handle')['Option1 Name'].ffill()\n",
    "df['Option2 Name'] = df.groupby('Handle')['Option2 Name'].ffill()\n",
    "df['Option3 Name'] = df.groupby('Handle')['Option3 Name'].ffill()\n",
    "df['Body (HTML)'] = df.groupby('Handle')['Body (HTML)'].ffill()\n",
    "df['Vendor'] = df.groupby('Handle')['Vendor'].ffill()\n",
    "df['Product Category'] = df.groupby('Handle')['Product Category'].ffill()\n",
    "df['Type'] = df.groupby('Handle')['Type'].ffill()\n",
    "df['Tags'] = df.groupby('Handle')['Tags'].ffill()\n",
    "df['Published'] = df.groupby('Handle')['Published'].ffill()\n",
    "df['Status'] = df.groupby('Handle')['Status'].ffill()\n",
    "\n",
    "\n",
    "# Display or save the filtered DataFrame\n",
    "df.to_csv(\"MASTER_plytix_feed.csv\", index=False)\n",
    "\n"
   ]
  }
 ],
 "metadata": {
  "kernelspec": {
   "display_name": "Python 3",
   "language": "python",
   "name": "python3"
  },
  "language_info": {
   "codemirror_mode": {
    "name": "ipython",
    "version": 3
   },
   "file_extension": ".py",
   "mimetype": "text/x-python",
   "name": "python",
   "nbconvert_exporter": "python",
   "pygments_lexer": "ipython3",
   "version": "3.12.5"
  }
 },
 "nbformat": 4,
 "nbformat_minor": 2
}
